{
 "cells": [
  {
   "cell_type": "markdown",
   "id": "d643d32f",
   "metadata": {},
   "source": [
    "# Street View Images for Location Stimuli - Single Image Preview"
   ]
  },
  {
   "cell_type": "code",
   "execution_count": null,
   "id": "c645196f",
   "metadata": {},
   "outputs": [],
   "source": [
    "import json\n",
    "\n",
    "import matplotlib.pyplot as plt\n",
    "from mpl_toolkits.axes_grid1 import ImageGrid\n",
    "%matplotlib inline\n",
    "\n",
    "from PIL import Image\n",
    "import requests"
   ]
  },
  {
   "cell_type": "markdown",
   "id": "66feb877",
   "metadata": {},
   "source": [
    "### Load API Keys"
   ]
  },
  {
   "cell_type": "code",
   "execution_count": null,
   "id": "6d1aa16c",
   "metadata": {},
   "outputs": [],
   "source": [
    "# TODO: load the `keys.json` file and assign it to the variable `keys`\n",
    "\n",
    "# TODO: access the value of `API_Key` inside `keys`\n",
    "API_Key = "
   ]
  },
  {
   "cell_type": "markdown",
   "id": "0d256797",
   "metadata": {},
   "source": [
    "### Helper Function"
   ]
  },
  {
   "cell_type": "code",
   "execution_count": null,
   "id": "5365dfdd",
   "metadata": {},
   "outputs": [],
   "source": [
    "def get_SV_images(lat, lng):  \n",
    "    images = []\n",
    "    \n",
    "    for angle in [0, 90, 180, 270]:\n",
    "        \n",
    "        # TODO : complete the request_url as specified in the instruction\n",
    "        request_url = f'''\n",
    "\n",
    "                       '''\n",
    "        images.append(Image.open(requests.get(request_url, stream=True).raw))\n",
    "    \n",
    "    fig = plt.figure(figsize=(24., 18.))\n",
    "    grid = ImageGrid(fig, 111,  # similar to subplot(111)\n",
    "                     nrows_ncols=(2, 2),  # creates 2x2 grid of axes\n",
    "                     axes_pad=0.1,  # pad between axes in inch.\n",
    "                     )\n",
    "    \n",
    "    for ax, im in zip(grid, images):\n",
    "        # Iterating over the grid returns the Axes.\n",
    "        ax.imshow(im)\n",
    "\n",
    "    plt.show()\n",
    "    \n",
    "    return images       "
   ]
  },
  {
   "cell_type": "markdown",
   "id": "5bba1a85",
   "metadata": {},
   "source": [
    "### Test locations\n",
    "\n",
    "`TODO`: use the function defined above, pull street view images for the following locations\n",
    "\n",
    "- Location 1: `(37.808967, -122.473655)` - you should see a location near the Golden Gate Bridge.\n",
    "- Location 2: `(37.871907, -122.258287)` - you should see a location on the UC Berkeley campus.\n",
    "- Location 3: `(42.276582, -83.735750)` - you should get a location by Weiser Hall on the UM campus."
   ]
  },
  {
   "cell_type": "code",
   "execution_count": null,
   "id": "bf73674f",
   "metadata": {},
   "outputs": [],
   "source": [
    "# TODO: Location 1\n"
   ]
  },
  {
   "cell_type": "code",
   "execution_count": null,
   "id": "7a60a5ce",
   "metadata": {},
   "outputs": [],
   "source": [
    "# TODO: Location 2\n"
   ]
  },
  {
   "cell_type": "code",
   "execution_count": null,
   "id": "4468e6ca",
   "metadata": {},
   "outputs": [],
   "source": [
    "# TODO: Location 3\n"
   ]
  },
  {
   "cell_type": "code",
   "execution_count": null,
   "id": "82e673e3",
   "metadata": {},
   "outputs": [],
   "source": []
  }
 ],
 "metadata": {
  "kernelspec": {
   "display_name": "Python 3.9.13 64-bit",
   "language": "python",
   "name": "python3"
  },
  "language_info": {
   "codemirror_mode": {
    "name": "ipython",
    "version": 3
   },
   "file_extension": ".py",
   "mimetype": "text/x-python",
   "name": "python",
   "nbconvert_exporter": "python",
   "pygments_lexer": "ipython3",
   "version": "3.9.13"
  },
  "vscode": {
   "interpreter": {
    "hash": "a665b5d41d17b532ea9890333293a1b812fa0b73c9c25c950b3cedf1bebd0438"
   }
  }
 },
 "nbformat": 4,
 "nbformat_minor": 5
}
